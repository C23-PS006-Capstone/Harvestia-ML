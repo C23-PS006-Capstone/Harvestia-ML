{
 "cells": [
  {
   "attachments": {},
   "cell_type": "markdown",
   "metadata": {},
   "source": [
    "# Import Libraries"
   ]
  },
  {
   "cell_type": "code",
   "execution_count": 1,
   "metadata": {},
   "outputs": [],
   "source": [
    "import matplotlib.pyplot as plt\n",
    "import pandas as pd\n",
    "import numpy as np\n",
    "import os\n",
    "import warnings\n",
    "warnings.filterwarnings('ignore')\n",
    "\n",
    "import tensorflow as tf\n",
    "import tensorflow.keras.layers as tfl\n",
    "from tensorflow.keras.utils import load_img, img_to_array\n",
    "from tensorflow.keras.layers.experimental.preprocessing import RandomFlip, RandomRotation, RandomContrast\n",
    "\n",
    "from tensorflow.keras.preprocessing import image_dataset_from_directory\n",
    "from tensorflow.keras.callbacks import ReduceLROnPlateau\n",
    "from tensorflow.keras.callbacks import EarlyStopping\n"
   ]
  },
  {
   "attachments": {},
   "cell_type": "markdown",
   "metadata": {},
   "source": [
    "# Data Exploration"
   ]
  },
  {
   "cell_type": "code",
   "execution_count": 2,
   "metadata": {},
   "outputs": [
    {
     "data": {
      "text/plain": [
       "(10407, 4)"
      ]
     },
     "execution_count": 2,
     "metadata": {},
     "output_type": "execute_result"
    }
   ],
   "source": [
    "data = pd.read_csv('train.csv')\n",
    "data.shape"
   ]
  },
  {
   "cell_type": "code",
   "execution_count": 3,
   "metadata": {},
   "outputs": [
    {
     "data": {
      "text/plain": [
       "'Number of classes:'"
      ]
     },
     "metadata": {},
     "output_type": "display_data"
    },
    {
     "data": {
      "text/plain": [
       "10"
      ]
     },
     "metadata": {},
     "output_type": "display_data"
    }
   ],
   "source": [
    "num_class = len(data.label.unique())\n",
    "display(\"Number of classes:\",num_class)"
   ]
  },
  {
   "cell_type": "code",
   "execution_count": 4,
   "metadata": {},
   "outputs": [],
   "source": [
    "base_path = 'dataset/'\n",
    "diseases = os.listdir(base_path)\n",
    "\n",
    "label = []\n",
    "for dis in diseases:\n",
    "    label.append(dis)"
   ]
  },
  {
   "cell_type": "code",
   "execution_count": 5,
   "metadata": {},
   "outputs": [
    {
     "data": {
      "text/plain": [
       "['bacterial_leaf_blight',\n",
       " 'bacterial_leaf_streak',\n",
       " 'bacterial_panicle_blight',\n",
       " 'blast',\n",
       " 'brown_spot',\n",
       " 'dead_heart',\n",
       " 'downy_mildew',\n",
       " 'hispa',\n",
       " 'normal',\n",
       " 'tungro']"
      ]
     },
     "execution_count": 5,
     "metadata": {},
     "output_type": "execute_result"
    }
   ],
   "source": [
    "label"
   ]
  },
  {
   "attachments": {},
   "cell_type": "markdown",
   "metadata": {},
   "source": [
    "# Load Data"
   ]
  },
  {
   "cell_type": "code",
   "execution_count": 6,
   "metadata": {},
   "outputs": [
    {
     "name": "stdout",
     "output_type": "stream",
     "text": [
      "Found 10407 files belonging to 10 classes.\n",
      "Using 9367 files for training.\n",
      "Found 10407 files belonging to 10 classes.\n",
      "Using 1040 files for validation.\n"
     ]
    }
   ],
   "source": [
    "labels = os.listdir('dataset/')\n",
    "img_size = 256\n",
    "\n",
    "\n",
    "train_dataset = image_dataset_from_directory(\n",
    "    'dataset/',\n",
    "    image_size = (img_size,img_size),\n",
    "    batch_size = 64,\n",
    "    shuffle=True,\n",
    "    labels='inferred',\n",
    "    class_names = labels,\n",
    "    label_mode = 'categorical',\n",
    "    color_mode='rgb',\n",
    "    validation_split = 0.1,\n",
    "    subset='training',\n",
    "    seed=22\n",
    ")\n",
    "\n",
    "\n",
    "val_dataset = image_dataset_from_directory(\n",
    "    'dataset/',\n",
    "    image_size = (img_size,img_size),\n",
    "    batch_size = 64,\n",
    "    shuffle=False,\n",
    "    labels='inferred',\n",
    "    class_names = labels,\n",
    "    label_mode = 'categorical',\n",
    "    color_mode='rgb',\n",
    "    validation_split = 0.1,\n",
    "    subset='validation',\n",
    "    seed=22\n",
    ")"
   ]
  },
  {
   "cell_type": "code",
   "execution_count": 7,
   "metadata": {},
   "outputs": [],
   "source": [
    "AUTOTUNE = tf.data.experimental.AUTOTUNE\n",
    "train_dataset = train_dataset.prefetch(buffer_size=AUTOTUNE)"
   ]
  },
  {
   "attachments": {},
   "cell_type": "markdown",
   "metadata": {},
   "source": [
    "# Transfer Learning using MobileNetV3Large"
   ]
  },
  {
   "cell_type": "code",
   "execution_count": 8,
   "metadata": {},
   "outputs": [],
   "source": [
    "def get_model(base, preprocessor, img_size):    \n",
    "    inputs = tf.keras.Input(shape=(img_size,img_size,3))\n",
    "    x = RandomFlip('horizontal')(inputs)\n",
    "    x = RandomFlip('vertical')(x)\n",
    "    x = RandomRotation(factor=0.4, fill_mode=\"wrap\")(x)\n",
    "    x = RandomContrast(factor=0.2)(x)\n",
    "    x = preprocessor(x)\n",
    "    x = base(x)\n",
    "\n",
    "    x = tfl.Flatten()(x)\n",
    "    x = tfl.Dense(1024, activation='relu')(x)\n",
    "    x = tfl.BatchNormalization()(x)\n",
    "    x = tfl.Dense(512, activation='relu')(x)\n",
    "    x = tfl.BatchNormalization()(x)\n",
    "    x = tfl.Dense(128, activation='relu')(x)\n",
    "    x = tfl.Dropout(0.15)(x)\n",
    "    x = tfl.BatchNormalization()(x)\n",
    "    x = tfl.Dense(64, activation='relu')(x)\n",
    "    x = tfl.Dropout(0.3)(x)\n",
    "    x = tfl.BatchNormalization()(x)\n",
    "    outputs = tfl.Dense(10, activation='softmax')(x)\n",
    "\n",
    "    model = tf.keras.Model(inputs, outputs)\n",
    "    \n",
    "    return model"
   ]
  },
  {
   "cell_type": "code",
   "execution_count": 9,
   "metadata": {},
   "outputs": [
    {
     "name": "stdout",
     "output_type": "stream",
     "text": [
      "WARNING:tensorflow:`input_shape` is undefined or non-square, or `rows` is not 224. Weights for input shape (224, 224) will be loaded as the default.\n"
     ]
    }
   ],
   "source": [
    "preprocess_input = tf.keras.applications.mobilenet_v3.preprocess_input\n",
    "\n",
    "pre_trained_model = tf.keras.applications.MobileNetV3Large(input_shape=(256,256,3),\n",
    "                                         include_top=False,\n",
    "                                         weights='imagenet')\n",
    "\n",
    "pre_trained_model.trainable = False"
   ]
  },
  {
   "cell_type": "code",
   "execution_count": 10,
   "metadata": {},
   "outputs": [],
   "source": [
    "lr_reduction = ReduceLROnPlateau(monitor='val_loss',patience=8, verbose=1,  factor=0.4, min_lr=0.0005)\n",
    "early_stop = EarlyStopping(monitor='val_loss', patience=8, restore_best_weights=True, verbose=1)"
   ]
  },
  {
   "cell_type": "code",
   "execution_count": 11,
   "metadata": {},
   "outputs": [],
   "source": [
    "model = get_model(pre_trained_model, preprocess_input, img_size)\n",
    "model.compile(loss='categorical_crossentropy',\n",
    "              optimizer='adam',\n",
    "              metrics=['accuracy'])"
   ]
  },
  {
   "cell_type": "code",
   "execution_count": 12,
   "metadata": {},
   "outputs": [
    {
     "name": "stdout",
     "output_type": "stream",
     "text": [
      "Model: \"model\"\n",
      "_________________________________________________________________\n",
      " Layer (type)                Output Shape              Param #   \n",
      "=================================================================\n",
      " input_2 (InputLayer)        [(None, 256, 256, 3)]     0         \n",
      "                                                                 \n",
      " random_flip (RandomFlip)    (None, 256, 256, 3)       0         \n",
      "                                                                 \n",
      " random_flip_1 (RandomFlip)  (None, 256, 256, 3)       0         \n",
      "                                                                 \n",
      " random_rotation (RandomRota  (None, 256, 256, 3)      0         \n",
      " tion)                                                           \n",
      "                                                                 \n",
      " random_contrast (RandomCont  (None, 256, 256, 3)      0         \n",
      " rast)                                                           \n",
      "                                                                 \n",
      " MobilenetV3large (Functiona  (None, 8, 8, 960)        2996352   \n",
      " l)                                                              \n",
      "                                                                 \n",
      " flatten (Flatten)           (None, 61440)             0         \n",
      "                                                                 \n",
      " dense (Dense)               (None, 1024)              62915584  \n",
      "                                                                 \n",
      " batch_normalization (BatchN  (None, 1024)             4096      \n",
      " ormalization)                                                   \n",
      "                                                                 \n",
      " dense_1 (Dense)             (None, 512)               524800    \n",
      "                                                                 \n",
      " batch_normalization_1 (Batc  (None, 512)              2048      \n",
      " hNormalization)                                                 \n",
      "                                                                 \n",
      " dense_2 (Dense)             (None, 128)               65664     \n",
      "                                                                 \n",
      " dropout (Dropout)           (None, 128)               0         \n",
      "                                                                 \n",
      " batch_normalization_2 (Batc  (None, 128)              512       \n",
      " hNormalization)                                                 \n",
      "                                                                 \n",
      " dense_3 (Dense)             (None, 64)                8256      \n",
      "                                                                 \n",
      " dropout_1 (Dropout)         (None, 64)                0         \n",
      "                                                                 \n",
      " batch_normalization_3 (Batc  (None, 64)               256       \n",
      " hNormalization)                                                 \n",
      "                                                                 \n",
      " dense_4 (Dense)             (None, 10)                650       \n",
      "                                                                 \n",
      "=================================================================\n",
      "Total params: 66,518,218\n",
      "Trainable params: 63,518,410\n",
      "Non-trainable params: 2,999,808\n",
      "_________________________________________________________________\n"
     ]
    }
   ],
   "source": [
    "model.summary()"
   ]
  },
  {
   "cell_type": "code",
   "execution_count": 13,
   "metadata": {},
   "outputs": [
    {
     "name": "stdout",
     "output_type": "stream",
     "text": [
      "Epoch 1/10\n",
      "147/147 [==============================] - 483s 3s/step - loss: 1.8215 - accuracy: 0.3986 - val_loss: 1.9150 - val_accuracy: 0.3625\n",
      "Epoch 2/10\n",
      "147/147 [==============================] - 464s 3s/step - loss: 1.2687 - accuracy: 0.5802 - val_loss: 1.5721 - val_accuracy: 0.4712\n",
      "Epoch 3/10\n",
      "147/147 [==============================] - 479s 3s/step - loss: 1.0543 - accuracy: 0.6538 - val_loss: 1.1779 - val_accuracy: 0.5250\n",
      "Epoch 4/10\n",
      "147/147 [==============================] - 439s 3s/step - loss: 0.9132 - accuracy: 0.7071 - val_loss: 1.0089 - val_accuracy: 0.6337\n",
      "Epoch 5/10\n",
      "147/147 [==============================] - 426s 3s/step - loss: 0.8128 - accuracy: 0.7360 - val_loss: 1.2991 - val_accuracy: 0.5077\n",
      "Epoch 6/10\n",
      "147/147 [==============================] - 449s 3s/step - loss: 0.7700 - accuracy: 0.7542 - val_loss: 0.8896 - val_accuracy: 0.6635\n",
      "Epoch 7/10\n",
      "147/147 [==============================] - 466s 3s/step - loss: 0.7135 - accuracy: 0.7732 - val_loss: 1.0494 - val_accuracy: 0.6221\n",
      "Epoch 8/10\n",
      "147/147 [==============================] - 500s 3s/step - loss: 0.6343 - accuracy: 0.7955 - val_loss: 0.8735 - val_accuracy: 0.6779\n",
      "Epoch 9/10\n",
      "147/147 [==============================] - 425s 3s/step - loss: 0.6206 - accuracy: 0.8005 - val_loss: 0.4312 - val_accuracy: 0.8702\n",
      "Epoch 10/10\n",
      "147/147 [==============================] - 417s 3s/step - loss: 0.5887 - accuracy: 0.8129 - val_loss: 0.7387 - val_accuracy: 0.7356\n"
     ]
    }
   ],
   "source": [
    "hist = model.fit(train_dataset,\n",
    "                 validation_data=val_dataset,\n",
    "                 epochs=10,\n",
    "                 verbose=1,\n",
    "                 callbacks=[early_stop])"
   ]
  },
  {
   "cell_type": "code",
   "execution_count": 14,
   "metadata": {},
   "outputs": [
    {
     "data": {
      "image/png": "[encoded data removed]",
      "text/plain": [
       "<Figure size 432x288 with 1 Axes>"
      ]
     },
     "metadata": {
      "needs_background": "light"
     },
     "output_type": "display_data"
    },
    {
     "data": {
      "image/png": "[encoded data removed]",
      "text/plain": [
       "<Figure size 432x288 with 1 Axes>"
      ]
     },
     "metadata": {
      "needs_background": "light"
     },
     "output_type": "display_data"
    }
   ],
   "source": [
    "hist = pd.DataFrame(hist.history)\n",
    "hist.loc[:,['loss','val_loss']].plot()\n",
    "hist.loc[:,['accuracy','val_accuracy']].plot()\n",
    "plt.show()"
   ]
  },
  {
   "attachments": {},
   "cell_type": "markdown",
   "metadata": {},
   "source": [
    "# Predict image using different dataset"
   ]
  },
  {
   "cell_type": "code",
   "execution_count": 15,
   "metadata": {},
   "outputs": [
    {
     "name": "stdout",
     "output_type": "stream",
     "text": [
      "1/1 [==============================] - 1s 1s/step\n",
      "tungro\n",
      "1/1 [==============================] - 0s 79ms/step\n",
      "bacterial_leaf_streak\n"
     ]
    }
   ],
   "source": [
    "predict_img = load_img('data_predict/Tungro/TUNGRO1_001.jpg', target_size = (img_size, img_size))\n",
    "predict_img = img_to_array(predict_img)\n",
    "predict_img = np.expand_dims(predict_img, axis = 0)\n",
    "\n",
    "predict_img2 = load_img('data_predict/Bacterialblight/BACTERAILBLIGHT3_007.jpg', target_size = (img_size, img_size))\n",
    "predict_img2 = img_to_array(predict_img2)\n",
    "predict_img2 = np.expand_dims(predict_img2, axis = 0)\n",
    "\n",
    "\n",
    "\n",
    "pred = model.predict(predict_img)\n",
    "pred = label[np.argmax(pred)]\n",
    "print(pred)\n",
    "\n",
    "pred2 = model.predict(predict_img2)\n",
    "pred2 = label[np.argmax(pred2)]\n",
    "print(pred2)"
   ]
  },
  {
   "attachments": {},
   "cell_type": "markdown",
   "metadata": {},
   "source": [
    "# Fine tuning the model"
   ]
  },
  {
   "cell_type": "code",
   "execution_count": 16,
   "metadata": {},
   "outputs": [
    {
     "name": "stdout",
     "output_type": "stream",
     "text": [
      "Number of layers in the MobileNetV3Large Model :  263\n"
     ]
    }
   ],
   "source": [
    "print('Number of layers in the MobileNetV3Large Model : ', len(pre_trained_model.layers))"
   ]
  },
  {
   "cell_type": "code",
   "execution_count": 17,
   "metadata": {},
   "outputs": [],
   "source": [
    "for layer in pre_trained_model.layers[200:]:\n",
    "    layer.trainable=True"
   ]
  },
  {
   "cell_type": "code",
   "execution_count": 18,
   "metadata": {},
   "outputs": [
    {
     "name": "stderr",
     "output_type": "stream",
     "text": [
      "WARNING:absl:`lr` is deprecated in Keras optimizer, please use `learning_rate` or use the legacy optimizer, e.g.,tf.keras.optimizers.legacy.Adam.\n"
     ]
    }
   ],
   "source": [
    "model_tuned = get_model(pre_trained_model, preprocess_input, img_size)\n",
    "\n",
    "model_tuned.compile(\n",
    "    optimizer=tf.keras.optimizers.Adam(lr=0.0001),\n",
    "    loss = 'categorical_crossentropy',\n",
    "    metrics=['accuracy']\n",
    ")"
   ]
  },
  {
   "cell_type": "code",
   "execution_count": 19,
   "metadata": {},
   "outputs": [
    {
     "name": "stdout",
     "output_type": "stream",
     "text": [
      "Epoch 1/15\n",
      "147/147 [==============================] - 405s 3s/step - loss: 1.6318 - accuracy: 0.4608 - val_loss: 0.7155 - val_accuracy: 0.7952\n",
      "Epoch 2/15\n",
      "147/147 [==============================] - 384s 3s/step - loss: 1.0691 - accuracy: 0.6537 - val_loss: 0.6202 - val_accuracy: 0.7885\n",
      "Epoch 3/15\n",
      "147/147 [==============================] - 418s 3s/step - loss: 0.8615 - accuracy: 0.7239 - val_loss: 1.1414 - val_accuracy: 0.5548\n",
      "Epoch 4/15\n",
      "147/147 [==============================] - 427s 3s/step - loss: 0.7435 - accuracy: 0.7629 - val_loss: 1.0111 - val_accuracy: 0.6231\n",
      "Epoch 5/15\n",
      "147/147 [==============================] - 424s 3s/step - loss: 0.6743 - accuracy: 0.7876 - val_loss: 1.2033 - val_accuracy: 0.6010\n",
      "Epoch 6/15\n",
      "147/147 [==============================] - 410s 3s/step - loss: 0.5882 - accuracy: 0.8193 - val_loss: 0.9430 - val_accuracy: 0.6529\n",
      "Epoch 7/15\n",
      "147/147 [==============================] - 419s 3s/step - loss: 0.5383 - accuracy: 0.8338 - val_loss: 1.4997 - val_accuracy: 0.4875\n",
      "Epoch 8/15\n",
      "147/147 [==============================] - 428s 3s/step - loss: 0.5086 - accuracy: 0.8409 - val_loss: 1.4659 - val_accuracy: 0.4760\n",
      "Epoch 9/15\n",
      "147/147 [==============================] - 421s 3s/step - loss: 0.4657 - accuracy: 0.8564 - val_loss: 0.6582 - val_accuracy: 0.7644\n",
      "Epoch 10/15\n",
      "147/147 [==============================] - 415s 3s/step - loss: 0.4353 - accuracy: 0.8642 - val_loss: 0.5932 - val_accuracy: 0.7885\n",
      "Epoch 11/15\n",
      "147/147 [==============================] - 426s 3s/step - loss: 0.4107 - accuracy: 0.8698 - val_loss: 1.0589 - val_accuracy: 0.6548\n",
      "Epoch 12/15\n",
      "147/147 [==============================] - 414s 3s/step - loss: 0.3721 - accuracy: 0.8845 - val_loss: 0.4999 - val_accuracy: 0.8317\n",
      "Epoch 13/15\n",
      "147/147 [==============================] - 417s 3s/step - loss: 0.3681 - accuracy: 0.8857 - val_loss: 0.6459 - val_accuracy: 0.7702\n",
      "Epoch 14/15\n",
      "147/147 [==============================] - 416s 3s/step - loss: 0.3456 - accuracy: 0.8956 - val_loss: 0.4507 - val_accuracy: 0.8413\n",
      "Epoch 15/15\n",
      "147/147 [==============================] - 422s 3s/step - loss: 0.3279 - accuracy: 0.8977 - val_loss: 0.6431 - val_accuracy: 0.7731\n"
     ]
    }
   ],
   "source": [
    "tuned_hist = model_tuned.fit(train_dataset,\n",
    "                 validation_data=val_dataset,\n",
    "                 epochs=15,\n",
    "                 verbose=1,\n",
    "                 callbacks=[early_stop])"
   ]
  },
  {
   "cell_type": "code",
   "execution_count": 20,
   "metadata": {},
   "outputs": [
    {
     "data": {
      "image/png": "[encoded data removed]",
      "text/plain": [
       "<Figure size 432x288 with 1 Axes>"
      ]
     },
     "metadata": {
      "needs_background": "light"
     },
     "output_type": "display_data"
    },
    {
     "data": {
      "image/png": "[encoded data removed]",
      "text/plain": [
       "<Figure size 432x288 with 1 Axes>"
      ]
     },
     "metadata": {
      "needs_background": "light"
     },
     "output_type": "display_data"
    }
   ],
   "source": [
    "history_tuned = pd.DataFrame(tuned_hist.history)\n",
    "history_tuned.loc[:,['loss','val_loss']].plot()\n",
    "history_tuned.loc[:,['accuracy','val_accuracy']].plot()\n",
    "plt.show()"
   ]
  },
  {
   "attachments": {},
   "cell_type": "markdown",
   "metadata": {},
   "source": [
    "# Predict image using different dataset"
   ]
  },
  {
   "cell_type": "code",
   "execution_count": 21,
   "metadata": {},
   "outputs": [
    {
     "name": "stdout",
     "output_type": "stream",
     "text": [
      "1/1 [==============================] - 1s 1s/step\n",
      "downy_mildew\n",
      "1/1 [==============================] - 0s 78ms/step\n",
      "dead_heart\n"
     ]
    }
   ],
   "source": [
    "predict_img3 = load_img('data_predict/Tungro/TUNGRO1_009.jpg', target_size = (img_size, img_size))\n",
    "predict_img3 = img_to_array(predict_img3)\n",
    "predict_img3 = np.expand_dims(predict_img3, axis = 0)\n",
    "\n",
    "predict_img4 = load_img('data_predict/Bacterialblight/BACTERAILBLIGHT3_005.jpg', target_size = (img_size, img_size))\n",
    "predict_img4 = img_to_array(predict_img4)\n",
    "predict_img4 = np.expand_dims(predict_img4, axis = 0)\n",
    "\n",
    "pred3 = model_tuned.predict(predict_img)\n",
    "pred3 = label[np.argmax(pred3)]\n",
    "print(pred3)\n",
    "\n",
    "pred4 = model_tuned.predict(predict_img2)\n",
    "pred4 = label[np.argmax(pred4)]\n",
    "print(pred4)"
   ]
  },
  {
   "cell_type": "code",
   "execution_count": null,
   "metadata": {},
   "outputs": [],
   "source": []
  }
 ],
 "metadata": {
  "kernelspec": {
   "display_name": "tf210",
   "language": "python",
   "name": "python3"
  },
  "language_info": {
   "codemirror_mode": {
    "name": "ipython",
    "version": 3
   },
   "file_extension": ".py",
   "mimetype": "text/x-python",
   "name": "python",
   "nbconvert_exporter": "python",
   "pygments_lexer": "ipython3",
   "version": "3.9.12"
  },
  "orig_nbformat": 4
 },
 "nbformat": 4,
 "nbformat_minor": 2
}
