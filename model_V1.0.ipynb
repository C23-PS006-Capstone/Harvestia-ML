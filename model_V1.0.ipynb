{
 "cells": [
  {
   "attachments": {},
   "cell_type": "markdown",
   "metadata": {},
   "source": [
    "# Import Libraries"
   ]
  },
  {
   "cell_type": "code",
   "execution_count": 25,
   "metadata": {},
   "outputs": [],
   "source": [
    "import matplotlib.pyplot as plt\n",
    "import pandas as pd\n",
    "import numpy as np\n",
    "import os\n",
    "import warnings\n",
    "warnings.filterwarnings('ignore')\n",
    "\n",
    "import tensorflow as tf\n",
    "from keras import Sequential\n",
    "import tensorflow.keras.layers as tfl\n",
    "from tensorflow.keras.utils import load_img, img_to_array\n",
    "from keras.preprocessing import image\n",
    "from tensorflow.keras.preprocessing import image_dataset_from_directory\n",
    "from tensorflow.keras.callbacks import ReduceLROnPlateau\n",
    "from tensorflow.keras.callbacks import EarlyStopping\n"
   ]
  },
  {
   "attachments": {},
   "cell_type": "markdown",
   "metadata": {},
   "source": [
    "# Data Exploration"
   ]
  },
  {
   "cell_type": "code",
   "execution_count": 2,
   "metadata": {},
   "outputs": [
    {
     "data": {
      "text/plain": [
       "(10407, 4)"
      ]
     },
     "execution_count": 2,
     "metadata": {},
     "output_type": "execute_result"
    }
   ],
   "source": [
    "data = pd.read_csv('train.csv')\n",
    "data.shape"
   ]
  },
  {
   "cell_type": "code",
   "execution_count": 3,
   "metadata": {},
   "outputs": [
    {
     "data": {
      "text/plain": [
       "'Number of classes:'"
      ]
     },
     "metadata": {},
     "output_type": "display_data"
    },
    {
     "data": {
      "text/plain": [
       "10"
      ]
     },
     "metadata": {},
     "output_type": "display_data"
    }
   ],
   "source": [
    "num_class = len(data.label.unique())\n",
    "display(\"Number of classes:\",num_class)"
   ]
  },
  {
   "cell_type": "code",
   "execution_count": 30,
   "metadata": {},
   "outputs": [],
   "source": [
    "base_path = 'dataset/'\n",
    "diseases = os.listdir(base_path)\n",
    "\n",
    "label = []\n",
    "for dis in diseases:\n",
    "    label.append(dis)"
   ]
  },
  {
   "cell_type": "code",
   "execution_count": 31,
   "metadata": {},
   "outputs": [
    {
     "data": {
      "text/plain": [
       "['bacterial_leaf_blight',\n",
       " 'bacterial_leaf_streak',\n",
       " 'bacterial_panicle_blight',\n",
       " 'blast',\n",
       " 'brown_spot',\n",
       " 'dead_heart',\n",
       " 'downy_mildew',\n",
       " 'hispa',\n",
       " 'normal',\n",
       " 'tungro']"
      ]
     },
     "execution_count": 31,
     "metadata": {},
     "output_type": "execute_result"
    }
   ],
   "source": [
    "label"
   ]
  },
  {
   "attachments": {},
   "cell_type": "markdown",
   "metadata": {},
   "source": [
    "# Transfer Learning MobileNetV3Large"
   ]
  },
  {
   "cell_type": "code",
   "execution_count": 5,
   "metadata": {},
   "outputs": [
    {
     "name": "stdout",
     "output_type": "stream",
     "text": [
      "Found 10407 files belonging to 10 classes.\n",
      "Using 9367 files for training.\n",
      "Found 10407 files belonging to 10 classes.\n",
      "Using 1040 files for validation.\n"
     ]
    }
   ],
   "source": [
    "labels = os.listdir('dataset/')\n",
    "img_size = 256\n",
    "\n",
    "train_dataset = image_dataset_from_directory(\n",
    "    'dataset/',\n",
    "    image_size = (img_size,img_size),\n",
    "    batch_size = 64,\n",
    "    shuffle=True,\n",
    "    labels='inferred',\n",
    "    class_names = labels,\n",
    "    label_mode = 'categorical',\n",
    "    color_mode='rgb',\n",
    "    validation_split = 0.1,\n",
    "    subset='training',\n",
    "    seed=22\n",
    ")\n",
    "\n",
    "\n",
    "val_dataset = image_dataset_from_directory(\n",
    "    'dataset/',\n",
    "    image_size = (img_size,img_size),\n",
    "    batch_size = 64,\n",
    "    shuffle=False,\n",
    "    labels='inferred',\n",
    "    class_names = labels,\n",
    "    label_mode = 'categorical',\n",
    "    color_mode='rgb',\n",
    "    validation_split = 0.1,\n",
    "    subset='validation',\n",
    "    seed=22\n",
    ")"
   ]
  },
  {
   "cell_type": "code",
   "execution_count": 6,
   "metadata": {},
   "outputs": [],
   "source": [
    "AUTOTUNE = tf.data.experimental.AUTOTUNE\n",
    "train_dataset = train_dataset.prefetch(buffer_size=AUTOTUNE)"
   ]
  },
  {
   "cell_type": "code",
   "execution_count": 7,
   "metadata": {},
   "outputs": [
    {
     "name": "stdout",
     "output_type": "stream",
     "text": [
      "WARNING:tensorflow:`input_shape` is undefined or non-square, or `rows` is not 224. Weights for input shape (224, 224) will be loaded as the default.\n"
     ]
    }
   ],
   "source": [
    "transferlearning = tf.keras.applications.MobileNetV3Large(\n",
    "    include_top=False,\n",
    "    weights='imagenet',\n",
    "    input_shape=(256,256,3),\n",
    ")\n",
    "for layer in transferlearning.layers:\n",
    "    layer.trainable = False"
   ]
  },
  {
   "cell_type": "code",
   "execution_count": 8,
   "metadata": {},
   "outputs": [],
   "source": [
    "model = Sequential()\n",
    "model.add(transferlearning)\n",
    "model.add(tfl.Flatten())\n",
    "model.add(tfl.Dense(1024, activation='relu'))\n",
    "model.add(tfl.BatchNormalization())\n",
    "model.add(tfl.Dense(512, activation='relu'))\n",
    "model.add(tfl.BatchNormalization())\n",
    "model.add(tfl.Dense(128, activation='relu'))\n",
    "model.add(tfl.Dropout(0.15))\n",
    "model.add(tfl.BatchNormalization())\n",
    "model.add(tfl.Dense(64, activation='relu'))\n",
    "model.add(tfl.Dropout(0.3))\n",
    "model.add(tfl.BatchNormalization())\n",
    "model.add(tfl.Dense(10, activation='softmax'))"
   ]
  },
  {
   "cell_type": "code",
   "execution_count": 9,
   "metadata": {},
   "outputs": [],
   "source": [
    "lr_reduction = ReduceLROnPlateau(monitor='val_loss',patience=8, verbose=1,  factor=0.4, min_lr=0.0005)\n",
    "early_stop = EarlyStopping(monitor='val_loss', patience=8, restore_best_weights=True, verbose=1)"
   ]
  },
  {
   "cell_type": "code",
   "execution_count": 10,
   "metadata": {},
   "outputs": [],
   "source": [
    "model.compile(loss='categorical_crossentropy',\n",
    "              optimizer='adam',\n",
    "              metrics=['accuracy'])"
   ]
  },
  {
   "cell_type": "code",
   "execution_count": 11,
   "metadata": {},
   "outputs": [
    {
     "name": "stdout",
     "output_type": "stream",
     "text": [
      "Model: \"sequential\"\n",
      "_________________________________________________________________\n",
      " Layer (type)                Output Shape              Param #   \n",
      "=================================================================\n",
      " MobilenetV3large (Functiona  (None, 8, 8, 960)        2996352   \n",
      " l)                                                              \n",
      "                                                                 \n",
      " flatten (Flatten)           (None, 61440)             0         \n",
      "                                                                 \n",
      " dense (Dense)               (None, 1024)              62915584  \n",
      "                                                                 \n",
      " batch_normalization (BatchN  (None, 1024)             4096      \n",
      " ormalization)                                                   \n",
      "                                                                 \n",
      " dense_1 (Dense)             (None, 512)               524800    \n",
      "                                                                 \n",
      " batch_normalization_1 (Batc  (None, 512)              2048      \n",
      " hNormalization)                                                 \n",
      "                                                                 \n",
      " dense_2 (Dense)             (None, 128)               65664     \n",
      "                                                                 \n",
      " dropout (Dropout)           (None, 128)               0         \n",
      "                                                                 \n",
      " batch_normalization_2 (Batc  (None, 128)              512       \n",
      " hNormalization)                                                 \n",
      "                                                                 \n",
      " dense_3 (Dense)             (None, 64)                8256      \n",
      "                                                                 \n",
      " dropout_1 (Dropout)         (None, 64)                0         \n",
      "                                                                 \n",
      " batch_normalization_3 (Batc  (None, 64)               256       \n",
      " hNormalization)                                                 \n",
      "                                                                 \n",
      " dense_4 (Dense)             (None, 10)                650       \n",
      "                                                                 \n",
      "=================================================================\n",
      "Total params: 66,518,218\n",
      "Trainable params: 63,518,410\n",
      "Non-trainable params: 2,999,808\n",
      "_________________________________________________________________\n"
     ]
    }
   ],
   "source": [
    "model.summary()"
   ]
  },
  {
   "cell_type": "code",
   "execution_count": 12,
   "metadata": {},
   "outputs": [
    {
     "name": "stdout",
     "output_type": "stream",
     "text": [
      "Epoch 1/5\n",
      "147/147 [==============================] - 422s 3s/step - loss: 1.0714 - accuracy: 0.6705 - val_loss: 0.3862 - val_accuracy: 0.8846\n",
      "Epoch 2/5\n",
      "147/147 [==============================] - 429s 3s/step - loss: 0.2777 - accuracy: 0.9284 - val_loss: 0.0715 - val_accuracy: 0.9817\n",
      "Epoch 3/5\n",
      "147/147 [==============================] - 414s 3s/step - loss: 0.0999 - accuracy: 0.9793 - val_loss: 0.0535 - val_accuracy: 0.9885\n",
      "Epoch 4/5\n",
      "147/147 [==============================] - 418s 3s/step - loss: 0.0621 - accuracy: 0.9861 - val_loss: 0.0731 - val_accuracy: 0.9856\n",
      "Epoch 5/5\n",
      "147/147 [==============================] - 410s 3s/step - loss: 0.0490 - accuracy: 0.9895 - val_loss: 0.0598 - val_accuracy: 0.9865\n"
     ]
    }
   ],
   "source": [
    "hist = model.fit(train_dataset,\n",
    "                 validation_data=val_dataset,\n",
    "                 epochs=5,\n",
    "                 verbose=1,\n",
    "                 callbacks=[early_stop])"
   ]
  },
  {
   "cell_type": "code",
   "execution_count": 13,
   "metadata": {},
   "outputs": [
    {
     "data": {
      "image/png": "[encoded data removed]",
      "text/plain": [
       "<Figure size 432x288 with 1 Axes>"
      ]
     },
     "metadata": {
      "needs_background": "light"
     },
     "output_type": "display_data"
    },
    {
     "data": {
      "image/png": "[encoded data removed]",
      "text/plain": [
       "<Figure size 432x288 with 1 Axes>"
      ]
     },
     "metadata": {
      "needs_background": "light"
     },
     "output_type": "display_data"
    }
   ],
   "source": [
    "hist = pd.DataFrame(hist.history)\n",
    "hist.loc[:,['loss','val_loss']].plot()\n",
    "hist.loc[:,['accuracy','val_accuracy']].plot()\n",
    "plt.show()"
   ]
  },
  {
   "attachments": {},
   "cell_type": "markdown",
   "metadata": {},
   "source": [
    "# Predict image using different dataset"
   ]
  },
  {
   "cell_type": "code",
   "execution_count": 44,
   "metadata": {},
   "outputs": [
    {
     "name": "stdout",
     "output_type": "stream",
     "text": [
      "1/1 [==============================] - 0s 147ms/step\n",
      "tungro\n",
      "1/1 [==============================] - 0s 72ms/step\n",
      "dead_heart\n"
     ]
    }
   ],
   "source": [
    "predict_img = load_img('data_predict/Tungro/TUNGRO1_001.jpg', target_size = (img_size, img_size))\n",
    "predict_img = img_to_array(predict_img)\n",
    "predict_img = np.expand_dims(predict_img, axis = 0)\n",
    "\n",
    "predict_img2 = load_img('data_predict/Bacterialblight/BACTERAILBLIGHT3_007.jpg', target_size = (img_size, img_size))\n",
    "predict_img2 = img_to_array(predict_img2)\n",
    "predict_img2 = np.expand_dims(predict_img2, axis = 0)\n",
    "\n",
    "\n",
    "\n",
    "pred = model.predict(predict_img)\n",
    "pred = label[np.argmax(pred)]\n",
    "print(pred)\n",
    "\n",
    "pred2 = model.predict(predict_img2)\n",
    "pred2 = label[np.argmax(pred2)]\n",
    "print(pred2)"
   ]
  },
  {
   "cell_type": "code",
   "execution_count": null,
   "metadata": {},
   "outputs": [],
   "source": []
  }
 ],
 "metadata": {
  "kernelspec": {
   "display_name": "tf210",
   "language": "python",
   "name": "python3"
  },
  "language_info": {
   "codemirror_mode": {
    "name": "ipython",
    "version": 3
   },
   "file_extension": ".py",
   "mimetype": "text/x-python",
   "name": "python",
   "nbconvert_exporter": "python",
   "pygments_lexer": "ipython3",
   "version": "3.9.12"
  },
  "orig_nbformat": 4
 },
 "nbformat": 4,
 "nbformat_minor": 2
}
